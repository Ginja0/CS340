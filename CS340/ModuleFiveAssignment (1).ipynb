{
 "cells": [
  {
   "cell_type": "code",
   "execution_count": 13,
   "metadata": {},
   "outputs": [
    {
     "name": "stdout",
     "output_type": "stream",
     "text": [
      "'{\"_id\": \"60fd05c192e9b02cbce12cc2\", \"age_upon_outcome\": \"2 year\", \"animal_id\": \"D64524\", \"animal_type\": \"Dog\", \"breed\": \"English Bulldog\", \"color\": \"Brown\", \"date_of_birth\": \"09/22/16\", \"datetime\": \"2016-09-22 10:49:00\", \"monthyear\": \"2017-09-22T10:49:00\", \"name\": \"Rosa\", \"outcome_subtype\": \"Foster\", \"outcome_type\": \"Adoption\", \"sex_upon_outcome\": \"Female\", \"location_lat\": 33.68462687, \"location_long\": -97.35999933, \"age_upon_outcome_in_weeks\": 50.9641111428357}'\n"
     ]
    },
    {
     "data": {
      "text/html": [
       "<div>\n",
       "  <iframe src=\"/app/endpoints/b6474b8145ab4c0b8416c5d3a19d7a62/\" width=800 height=600 frameborder=\"0\"></iframe>\n",
       "  <hr/><a href=\"/app/endpoints/b6474b8145ab4c0b8416c5d3a19d7a62/\" target=\"_new\">Open in new window</a> for /app/endpoints/b6474b8145ab4c0b8416c5d3a19d7a62/\n",
       "</div>"
      ],
      "text/plain": [
       "<jupyter_plotly_dash.dash_wrapper.JupyterDash at 0x7f6483a0cb38>"
      ]
     },
     "execution_count": 13,
     "metadata": {},
     "output_type": "execute_result"
    }
   ],
   "source": [
    "from jupyter_plotly_dash import JupyterDash\n",
    "import dash_core_components as dcc\n",
    "import dash_html_components as html\n",
    "import dash\n",
    "from dash.dependencies import Input, Output\n",
    "from pymongo import MongoClient\n",
    "import urllib.parse\n",
    "from bson.json_util import dumps\n",
    "import json\n",
    "import uuid\n",
    "\n",
    "#TODO: import for their CRUD module\n",
    "from AnimalShelter import AnimalShelter\n",
    "\n",
    "# this is a juypter dash application\n",
    "app = JupyterDash('ModuleFive')\n",
    "\n",
    "# the application interfaces are declared here\n",
    "# this application has two input boxes, a submit button, a horizontal line and div for output\n",
    "app.layout = html.Div([\n",
    "    html.H1(\"Christopher Holmes' SNHU Client-Server Authentication\"),\n",
    "        dcc.Input(\n",
    "            id=\"input_user\".format(\"text\"),\n",
    "            type=\"text\",\n",
    "            placeholder=\"input type {}\".format(\"text\")),\n",
    "        dcc.Input(\n",
    "            id=\"input_passwd\".format(\"password\"),\n",
    "            type=\"password\",\n",
    "            placeholder=\"input type {}\".format(\"password\")),\n",
    "        html.Button('Execute', id='submit-val', n_clicks=0),\n",
    "\n",
    "    html.Hr(),\n",
    "    html.Div(id=\"query-out\"),\n",
    "\n",
    "    #TODO: insert unique identifier code here]\n",
    "    # make a UUID based on the host address and current time\n",
    "    'c303282d-f2e6-46ca-a04a-35d3d873712d'\n",
    "    ])\n",
    "\n",
    "# this is area to define application responses or callback routines\n",
    "# this one callback will take the entered text and if the submit button is clicked then call the \n",
    "#  mongo database with the find_one query and return the result to the output div\n",
    "@app.callback(\n",
    "    Output(\"query-out\", \"children\"),\n",
    "    [Input(\"input_user\".format(\"text\"), \"value\"), \n",
    "     Input(\"input_passwd\".format(\"password\"),\"value\"),\n",
    "     Input('submit-val', 'n_clicks')],\n",
    "    [dash.dependencies.State('input_passwd', 'value')]\n",
    ")\n",
    "def cb_render(userValue,passValue,n_clicks,buttonValue):\n",
    "    if n_clicks > 0:\n",
    "        ###########################\n",
    "        # Data Manipulation / Model\n",
    "        # use CRUD module to access MongoDB\n",
    "        ##########################\n",
    "        username = urllib.parse.quote_plus(userValue)\n",
    "        password = urllib.parse.quote_plus(passValue)\n",
    "\n",
    "        #TODO: Instantiate CRUD object with above authentication username and password values\n",
    "        # Initializing the MongoClient using the specified path to my port \n",
    "        self.client = MongoClient('mongodb://%s:%s@127.0.0.1:51965/AAC' % (\"accuser\", \"password\"))\n",
    "        #Setting the AAC database to be worked from\n",
    "        self.database = self.client['AAC']\n",
    "\n",
    "        # note that MongoDB returns BSON, the pyMongo JSON utility function dumps is used to convert to text\n",
    "        #TODO: Return example query results\n",
    "\n",
    "#Test data\n",
    "data =  data = {\"_id\": \"60fd05c192e9b02cbce12cc2\",\n",
    "            \"age_upon_outcome\": \"2 year\",\n",
    "\n",
    "            \"animal_id\": \"D64524\",\n",
    "\n",
    "            \"animal_type\": \"Dog\",\n",
    "\n",
    "            \"breed\": \"English Bulldog\",\n",
    "\n",
    "            \"color\": \"Brown\",\n",
    "\n",
    "            \"date_of_birth\": \"09/22/16\",\n",
    "\n",
    "            \"datetime\": \"2016-09-22 10:49:00\",\n",
    "\n",
    "            \"monthyear\": \"2017-09-22T10:49:00\",\n",
    "\n",
    "            \"name\": \"Rosa\",\n",
    "\n",
    "            \"outcome_subtype\": \"Foster\",\n",
    "\n",
    "            \"outcome_type\": \"Adoption\",\n",
    "\n",
    "            \"sex_upon_outcome\": \"Female\",\n",
    "\n",
    "            \"location_lat\": 33.68462687,\n",
    "\n",
    "            \"location_long\": -97.35999933,\n",
    "\n",
    "            \"age_upon_outcome_in_weeks\": 50.9641111428357\n",
    "               }\n",
    "\n",
    "data_json = json.dumps(data)\n",
    "print(repr(data_json))\n",
    "\n",
    "\n",
    "\n",
    "app\n"
   ]
  },
  {
   "cell_type": "code",
   "execution_count": null,
   "metadata": {},
   "outputs": [],
   "source": []
  },
  {
   "cell_type": "code",
   "execution_count": null,
   "metadata": {},
   "outputs": [],
   "source": []
  }
 ],
 "metadata": {
  "kernelspec": {
   "display_name": "Python 3",
   "language": "python",
   "name": "python3"
  },
  "language_info": {
   "codemirror_mode": {
    "name": "ipython",
    "version": 3
   },
   "file_extension": ".py",
   "mimetype": "text/x-python",
   "name": "python",
   "nbconvert_exporter": "python",
   "pygments_lexer": "ipython3",
   "version": "3.6.9"
  }
 },
 "nbformat": 4,
 "nbformat_minor": 4
}
